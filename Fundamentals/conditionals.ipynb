{
 "cells": [
  {
   "cell_type": "markdown",
   "metadata": {},
   "source": [
    "# Program to choose if a restaurant is AC/Non AC and Ven/Non-Veg"
   ]
  },
  {
   "cell_type": "code",
   "execution_count": 1,
   "metadata": {},
   "outputs": [
    {
     "name": "stdout",
     "output_type": "stream",
     "text": [
      "AC Veg\n"
     ]
    }
   ],
   "source": [
    "ac = input (\"Enter AC/Non-AC\")\n",
    "food = input(\"Enter Veg/Non-veg\")\n",
    "\n",
    "if (ac == \"AC\"):\n",
    "    if (food == \"Veg\"):\n",
    "        print(\"AC Veg\")\n",
    "    else: \n",
    "        print(\"AC  Non-veg\")\n",
    "else: \n",
    "    if (food == \"Veg\"):\n",
    "        print(\"Non-AC Veg\")\n",
    "    else:\n",
    "        print(\"Non-AC Non-Veg\")"
   ]
  },
  {
   "cell_type": "markdown",
   "metadata": {},
   "source": [
    "### Using If, Else, Elif"
   ]
  },
  {
   "cell_type": "code",
   "execution_count": 4,
   "metadata": {},
   "outputs": [
    {
     "name": "stdout",
     "output_type": "stream",
     "text": [
      "Non-AC Non Veg\n"
     ]
    }
   ],
   "source": [
    "ac = input (\"Enter AC/Non-AC\")\n",
    "food = input(\"Enter Veg/Non-veg\")\n",
    "\n",
    "if (ac == \"AC\" and food == \"Veg\"):\n",
    "    print(\"AC Veg\")\n",
    "elif (ac == \"AC\" and food == \"Non-veg\"):\n",
    "    print(\"AC Non-veg\")\n",
    "elif (ac == \"Non-AC\" and food == \"Veg\"):\n",
    "    print(\"Non-AC Veg\")\n",
    "else: \n",
    "    print(\"Non-AC Non Veg\")"
   ]
  },
  {
   "cell_type": "code",
   "execution_count": 6,
   "metadata": {},
   "outputs": [
    {
     "name": "stdout",
     "output_type": "stream",
     "text": [
      "You Entered Nothing!\n"
     ]
    }
   ],
   "source": [
    "num = int(input(\"Enter 1, 2, or 3: \"))\n",
    "match num:\n",
    "    case 1:\n",
    "        print(\"You entered 1.\")\n",
    "    case 2:\n",
    "        print(\"You entered 2.\")\n",
    "    case 3: \n",
    "        print(\"You entered 3.\")\n",
    "    case _:\n",
    "        print(\"You Entered Nothing!\")"
   ]
  },
  {
   "cell_type": "code",
   "execution_count": null,
   "metadata": {},
   "outputs": [],
   "source": []
  }
 ],
 "metadata": {
  "kernelspec": {
   "display_name": "myenv",
   "language": "python",
   "name": "python3"
  },
  "language_info": {
   "codemirror_mode": {
    "name": "ipython",
    "version": 3
   },
   "file_extension": ".py",
   "mimetype": "text/x-python",
   "name": "python",
   "nbconvert_exporter": "python",
   "pygments_lexer": "ipython3",
   "version": "3.11.6"
  }
 },
 "nbformat": 4,
 "nbformat_minor": 2
}
