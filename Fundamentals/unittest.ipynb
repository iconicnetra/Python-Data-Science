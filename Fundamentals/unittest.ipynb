{
 "cells": [
  {
   "cell_type": "code",
   "execution_count": 27,
   "metadata": {},
   "outputs": [],
   "source": [
    "import unittest"
   ]
  },
  {
   "cell_type": "code",
   "execution_count": 28,
   "metadata": {},
   "outputs": [],
   "source": [
    "def square(number):\n",
    "    return number**2\n",
    "\n",
    "def double(number):\n",
    "    return number*2"
   ]
  },
  {
   "cell_type": "code",
   "execution_count": 29,
   "metadata": {},
   "outputs": [
    {
     "ename": "ModuleNotFoundError",
     "evalue": "No module named 'mymodule'",
     "output_type": "error",
     "traceback": [
      "\u001b[1;31m---------------------------------------------------------------------------\u001b[0m",
      "\u001b[1;31mModuleNotFoundError\u001b[0m                       Traceback (most recent call last)",
      "Cell \u001b[1;32mIn[29], line 3\u001b[0m\n\u001b[0;32m      1\u001b[0m \u001b[38;5;28;01mimport\u001b[39;00m \u001b[38;5;21;01munittest\u001b[39;00m\n\u001b[1;32m----> 3\u001b[0m \u001b[38;5;28;01mfrom\u001b[39;00m \u001b[38;5;21;01mmymodule\u001b[39;00m \u001b[38;5;28;01mimport\u001b[39;00m square, double \n\u001b[0;32m      5\u001b[0m \u001b[38;5;28;01mclass\u001b[39;00m \u001b[38;5;21;01mTestSquare\u001b[39;00m(unittest\u001b[38;5;241m.\u001b[39mTestCase):\n\u001b[0;32m      6\u001b[0m     \u001b[38;5;28;01mdef\u001b[39;00m \u001b[38;5;21mtest1\u001b[39m(\u001b[38;5;28mself\u001b[39m):\n",
      "\u001b[1;31mModuleNotFoundError\u001b[0m: No module named 'mymodule'"
     ]
    }
   ],
   "source": [
    "import unittest\n",
    "\n",
    "from mymodule import square, double \n",
    "\n",
    "class TestSquare(unittest.TestCase):\n",
    "    def test1(self):\n",
    "        self.assertEqual(square(2), 4)\n",
    "        self.assertEqual(square(3.0), 9.0)\n",
    "        self.assertEqual(square(-3), 9)\n",
    "\n",
    "\n",
    "class TestDouble(unittest.TestCase):\n",
    "    def test1(self):\n",
    "        self.assertEqual(double(2), 4)\n",
    "        self.assertEqual(double(-3.1), -6.2)\n",
    "        self.assertEqual(double(0), 0)\n",
    "\n",
    "unittest.main()"
   ]
  },
  {
   "cell_type": "code",
   "execution_count": null,
   "metadata": {},
   "outputs": [
    {
     "name": "stdout",
     "output_type": "stream",
     "text": [
      "38.5\n"
     ]
    }
   ],
   "source": [
    "def mean(numbers):\n",
    "    return sum(numbers)/len(numbers)\n",
    "\n",
    "numbers = [11, 22, 33, 44, 55, 66]\n",
    "\n",
    "print(mean(numbers))"
   ]
  },
  {
   "cell_type": "code",
   "execution_count": 36,
   "metadata": {},
   "outputs": [
    {
     "name": "stdout",
     "output_type": "stream",
     "text": [
      "37.714285714285715\n",
      "33\n"
     ]
    }
   ],
   "source": [
    "def mean(numbers):\n",
    "    return sum(numbers)/len(numbers)\n",
    "\n",
    "numbers = [11, 22, 33, 44, 55, 66, 33]\n",
    "\n",
    "print(mean(numbers))\n",
    "\n",
    "def median(numbers):\n",
    "    numbers.sort()\n",
    "\n",
    "    if len(numbers) % 2 == 0:\n",
    "        median1 = numbers[len(numbers)//2]\n",
    "        median2 = numbers[len(numbers)//2 - 1]\n",
    "        mymedian = (median1 + median2)/2\n",
    "    else:\n",
    "        mymedian = numbers[len(numbers)//2]\n",
    "    return mymedian\n",
    "print(median(numbers))"
   ]
  },
  {
   "cell_type": "code",
   "execution_count": null,
   "metadata": {},
   "outputs": [],
   "source": []
  }
 ],
 "metadata": {
  "kernelspec": {
   "display_name": "myenv",
   "language": "python",
   "name": "python3"
  },
  "language_info": {
   "codemirror_mode": {
    "name": "ipython",
    "version": 3
   },
   "file_extension": ".py",
   "mimetype": "text/x-python",
   "name": "python",
   "nbconvert_exporter": "python",
   "pygments_lexer": "ipython3",
   "version": "3.11.6"
  }
 },
 "nbformat": 4,
 "nbformat_minor": 2
}
