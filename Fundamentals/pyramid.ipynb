{
 "cells": [
  {
   "cell_type": "markdown",
   "metadata": {},
   "source": [
    "## Invert Pyramid"
   ]
  },
  {
   "cell_type": "code",
   "execution_count": 1,
   "metadata": {},
   "outputs": [
    {
     "name": "stdout",
     "output_type": "stream",
     "text": [
      "\n",
      "Invert Pyramid\n",
      "\n",
      "* * * * * \n",
      " * * * *  \n",
      "  * * *   \n",
      "   * *    \n",
      "    *     \n"
     ]
    }
   ],
   "source": [
    "print(\"\\nInvert Pyramid\\n\")\n",
    "for i in range(5):\n",
    "    x = \"* \"\n",
    "    x = x*(5 - i)\n",
    "    print(f'{x: ^10}')"
   ]
  },
  {
   "cell_type": "markdown",
   "metadata": {},
   "source": [
    "## Left Sided Pyramid"
   ]
  },
  {
   "cell_type": "code",
   "execution_count": 3,
   "metadata": {},
   "outputs": [
    {
     "name": "stdout",
     "output_type": "stream",
     "text": [
      "\n",
      "Lieft sided Pyramid\n",
      "                    \n",
      "*                   \n",
      "* *                 \n",
      "* * *               \n",
      "* * * *             \n",
      "* * * * *           \n",
      "* * * * * *         \n",
      "* * * * * * *       \n",
      "* * * * * * * *     \n",
      "* * * * * * * * *   \n"
     ]
    }
   ],
   "source": [
    "print(\"\\nLieft sided Pyramid\")\n",
    "for i in range(10):\n",
    "    x = \"* \"\n",
    "    x = x*i\n",
    "    print(f\"{x: <20}\")"
   ]
  },
  {
   "cell_type": "markdown",
   "metadata": {},
   "source": [
    "## Right Sided Pyramid"
   ]
  },
  {
   "cell_type": "code",
   "execution_count": 5,
   "metadata": {},
   "outputs": [
    {
     "name": "stdout",
     "output_type": "stream",
     "text": [
      "\n",
      "Right sided Pyramid\n",
      "                    \n",
      "                  * \n",
      "                * * \n",
      "              * * * \n",
      "            * * * * \n",
      "          * * * * * \n",
      "        * * * * * * \n",
      "      * * * * * * * \n",
      "    * * * * * * * * \n",
      "  * * * * * * * * * \n"
     ]
    }
   ],
   "source": [
    "print(\"\\nRight sided Pyramid\")\n",
    "\n",
    "for i in range(10):\n",
    "    x = \"* \"\n",
    "    x = x*i\n",
    "    print(f\"{x: >20}\")"
   ]
  },
  {
   "cell_type": "markdown",
   "metadata": {},
   "source": [
    "## Diamond"
   ]
  },
  {
   "cell_type": "code",
   "execution_count": 15,
   "metadata": {},
   "outputs": [
    {
     "name": "stdout",
     "output_type": "stream",
     "text": [
      "\n",
      "Diamond Pyramid\n",
      "                    \n",
      "         *          \n",
      "        * *         \n",
      "       * * *        \n",
      "      * * * *       \n",
      "     * * * * *      \n",
      "    * * * * * *     \n",
      "   * * * * * * *    \n",
      "  * * * * * * * *   \n",
      " * * * * * * * * *  \n",
      "* * * * * * * * * * \n",
      " * * * * * * * * *  \n",
      "  * * * * * * * *   \n",
      "   * * * * * * *    \n",
      "    * * * * * *     \n",
      "     * * * * *      \n",
      "      * * * *       \n",
      "       * * *        \n",
      "        * *         \n",
      "         *          \n"
     ]
    }
   ],
   "source": [
    "print(\"\\nDiamond Pyramid\")\n",
    "for i in range(10):\n",
    "    x = \"* \"\n",
    "    x = x*i\n",
    "    print(f\"{x: ^20}\")\n",
    "    \n",
    "for i in range(10):\n",
    "    x = \"* \"\n",
    "    x = x*(10-i)\n",
    "    print(f\"{x: ^20}\")"
   ]
  },
  {
   "cell_type": "code",
   "execution_count": null,
   "metadata": {},
   "outputs": [],
   "source": []
  }
 ],
 "metadata": {
  "kernelspec": {
   "display_name": "myenv",
   "language": "python",
   "name": "python3"
  },
  "language_info": {
   "codemirror_mode": {
    "name": "ipython",
    "version": 3
   },
   "file_extension": ".py",
   "mimetype": "text/x-python",
   "name": "python",
   "nbconvert_exporter": "python",
   "pygments_lexer": "ipython3",
   "version": "3.11.6"
  }
 },
 "nbformat": 4,
 "nbformat_minor": 2
}
