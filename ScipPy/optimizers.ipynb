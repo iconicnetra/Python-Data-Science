{
 "cells": [
  {
   "cell_type": "code",
   "execution_count": 1,
   "metadata": {},
   "outputs": [],
   "source": [
    "from scipy.optimize import root \n",
    "from math import cos"
   ]
  },
  {
   "cell_type": "code",
   "execution_count": 2,
   "metadata": {},
   "outputs": [
    {
     "name": "stdout",
     "output_type": "stream",
     "text": [
      "[-0.73908513]\n"
     ]
    },
    {
     "name": "stderr",
     "output_type": "stream",
     "text": [
      "C:\\Users\\netra\\AppData\\Local\\Temp\\ipykernel_27432\\3810341646.py:2: DeprecationWarning: Conversion of an array with ndim > 0 to a scalar is deprecated, and will error in future. Ensure you extract a single element from your array before performing this operation. (Deprecated NumPy 1.25.)\n",
      "  return x + cos(x)\n"
     ]
    }
   ],
   "source": [
    "def eqn(x):\n",
    "    return x + cos(x)\n",
    "myroot = root(eqn, 0)\n",
    "print(myroot.x)"
   ]
  },
  {
   "cell_type": "code",
   "execution_count": 5,
   "metadata": {},
   "outputs": [
    {
     "name": "stdout",
     "output_type": "stream",
     "text": [
      " message: The solution converged.\n",
      " success: True\n",
      "  status: 1\n",
      "     fun: [ 0.000e+00]\n",
      "       x: [-7.391e-01]\n",
      "  method: hybr\n",
      "    nfev: 9\n",
      "    fjac: [[-1.000e+00]]\n",
      "       r: [-1.674e+00]\n",
      "     qtf: [-2.668e-13]\n"
     ]
    },
    {
     "name": "stderr",
     "output_type": "stream",
     "text": [
      "C:\\Users\\netra\\AppData\\Local\\Temp\\ipykernel_27432\\680568809.py:2: DeprecationWarning: Conversion of an array with ndim > 0 to a scalar is deprecated, and will error in future. Ensure you extract a single element from your array before performing this operation. (Deprecated NumPy 1.25.)\n",
      "  return x + cos(x)\n"
     ]
    }
   ],
   "source": [
    "def eqn(x):\n",
    "    return x + cos(x)\n",
    "myroot = root(eqn, 0)\n",
    "print(myroot) # findings the Roots "
   ]
  },
  {
   "cell_type": "code",
   "execution_count": 4,
   "metadata": {},
   "outputs": [
    {
     "name": "stdout",
     "output_type": "stream",
     "text": [
      "  message: Optimization terminated successfully.\n",
      "  success: True\n",
      "   status: 0\n",
      "      fun: 1.75\n",
      "        x: [-5.000e-01]\n",
      "      nit: 2\n",
      "      jac: [ 0.000e+00]\n",
      " hess_inv: [[ 5.000e-01]]\n",
      "     nfev: 8\n",
      "     njev: 4\n"
     ]
    }
   ],
   "source": [
    "from scipy.optimize import minimize\n",
    "def eqn(x):\n",
    "    return x**2 + x + 2\n",
    "mymin = minimize(eqn, 0, method = \"BFGS\")\n",
    "print(mymin)"
   ]
  },
  {
   "cell_type": "code",
   "execution_count": 1,
   "metadata": {},
   "outputs": [
    {
     "name": "stdout",
     "output_type": "stream",
     "text": [
      "  message: Optimization terminated successfully.\n",
      "  success: True\n",
      "   status: 0\n",
      "      fun: -0.2500000000000018\n",
      "        x: [ 3.500e+00]\n",
      "      nit: 3\n",
      "      jac: [ 0.000e+00]\n",
      " hess_inv: [[ 5.000e-01]]\n",
      "     nfev: 8\n",
      "     njev: 4\n"
     ]
    }
   ],
   "source": [
    "from scipy.optimize import minimize\n",
    "def eqn(x):\n",
    "    return x**2 -  7*x + 12\n",
    "mymin = minimize(eqn, 0, method = \"BFGS\")\n",
    "print(mymin)"
   ]
  },
  {
   "cell_type": "code",
   "execution_count": 2,
   "metadata": {},
   "outputs": [
    {
     "name": "stdout",
     "output_type": "stream",
     "text": [
      "  message: Desired error not necessarily achieved due to precision loss.\n",
      "  success: False\n",
      "   status: 2\n",
      "      fun: -1111632779.5770242\n",
      "        x: [-1.034e+03]\n",
      "      nit: 1\n",
      "      jac: [ 3.219e+06]\n",
      " hess_inv: [[-3.213e-04]]\n",
      "     nfev: 236\n",
      "     njev: 112\n"
     ]
    }
   ],
   "source": [
    "from scipy.optimize import minimize\n",
    "def eqn(x):\n",
    "    return x**3 - 5*x**2 + 7*x - 3\n",
    "mymin = minimize(eqn, 0, method = \"BFGS\")\n",
    "print(mymin)"
   ]
  },
  {
   "cell_type": "code",
   "execution_count": 1,
   "metadata": {},
   "outputs": [
    {
     "name": "stdout",
     "output_type": "stream",
     "text": [
      "Numerical integration result: 0.33333333333333337\n",
      "Error: 3.700743415417189e-15\n",
      "Solution to linear equations: [-4.   4.5]\n",
      "Interpolated values: [3. 7.]\n"
     ]
    }
   ],
   "source": [
    "# Example 1: Numerical Integration\n",
    "from scipy.integrate import quad\n",
    "\n",
    "def integrand(x):\n",
    "    return x**2\n",
    "\n",
    "result, error = quad(integrand, 0, 1)\n",
    "print(\"Numerical integration result:\", result)\n",
    "print(\"Error:\", error)\n",
    "\n",
    "# Example 2: Linear Algebra\n",
    "import numpy as np\n",
    "from scipy.linalg import solve\n",
    "\n",
    "A = np.array([[1, 2], [3, 4]])\n",
    "b = np.array([5, 6])\n",
    "\n",
    "x = solve(A, b)\n",
    "print(\"Solution to linear equations:\", x)\n",
    "\n",
    "# Example 3: Interpolation\n",
    "from scipy.interpolate import interp1d\n",
    "\n",
    "x = np.array([0, 1, 2, 3, 4, 5])\n",
    "y = np.array([0, 2, 4, 6, 8, 10])\n",
    "\n",
    "f = interp1d(x, y, kind='linear')\n",
    "x_new = np.array([1.5, 3.5])\n",
    "y_new = f(x_new)\n",
    "print(\"Interpolated values:\", y_new)\n"
   ]
  },
  {
   "cell_type": "code",
   "execution_count": 4,
   "metadata": {},
   "outputs": [
    {
     "data": {
      "text/plain": [
       "array([[1, 0, 0, 0],\n",
       "       [0, 1, 0, 0],\n",
       "       [0, 0, 1, 0],\n",
       "       [0, 0, 0, 1]])"
      ]
     },
     "execution_count": 4,
     "metadata": {},
     "output_type": "execute_result"
    }
   ],
   "source": [
    "a = np.eye(4, dtype = int)\n",
    "a"
   ]
  },
  {
   "cell_type": "code",
   "execution_count": 5,
   "metadata": {},
   "outputs": [
    {
     "data": {
      "text/plain": [
       "(4, 4)"
      ]
     },
     "execution_count": 5,
     "metadata": {},
     "output_type": "execute_result"
    }
   ],
   "source": [
    "a.shape"
   ]
  },
  {
   "cell_type": "code",
   "execution_count": 7,
   "metadata": {},
   "outputs": [
    {
     "data": {
      "text/plain": [
       "2"
      ]
     },
     "execution_count": 7,
     "metadata": {},
     "output_type": "execute_result"
    }
   ],
   "source": [
    "a.ndim"
   ]
  },
  {
   "cell_type": "code",
   "execution_count": null,
   "metadata": {},
   "outputs": [],
   "source": []
  }
 ],
 "metadata": {
  "kernelspec": {
   "display_name": "myenv",
   "language": "python",
   "name": "python3"
  },
  "language_info": {
   "codemirror_mode": {
    "name": "ipython",
    "version": 3
   },
   "file_extension": ".py",
   "mimetype": "text/x-python",
   "name": "python",
   "nbconvert_exporter": "python",
   "pygments_lexer": "ipython3",
   "version": "3.11.8"
  }
 },
 "nbformat": 4,
 "nbformat_minor": 2
}
