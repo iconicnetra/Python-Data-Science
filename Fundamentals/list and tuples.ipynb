{
 "cells": [
  {
   "cell_type": "code",
   "execution_count": 116,
   "metadata": {},
   "outputs": [
    {
     "name": "stdout",
     "output_type": "stream",
     "text": [
      "['netra', 11, 22, 33, 44, 55, 66, 77, 'Bibek', 'Nimesh', 12.35]\n"
     ]
    }
   ],
   "source": [
    "l1 = [\"netra\", 11, 22, 33, 44, 55, 66, 77, \"Bibek\", \"Nimesh\", 12.35]\n",
    "print(l1)"
   ]
  },
  {
   "cell_type": "code",
   "execution_count": 117,
   "metadata": {},
   "outputs": [
    {
     "name": "stdout",
     "output_type": "stream",
     "text": [
      "['netra', 11, 22, 33, 44, 55, 66, 77, 'Bibek', 'Nimesh', 12.35, 'Ganesh']\n"
     ]
    }
   ],
   "source": [
    "l1.append('Ganesh') #Append function only takes only one value\n",
    "print(l1)"
   ]
  },
  {
   "cell_type": "code",
   "execution_count": 118,
   "metadata": {},
   "outputs": [
    {
     "name": "stdout",
     "output_type": "stream",
     "text": [
      "['netra', 11, 22, 33, 44, 55, 66, 77, 'Bibek', 'Nimesh', 12.35, 'Ganesh']\n"
     ]
    }
   ],
   "source": [
    "#Creating a New list (Copy Function)\n",
    "\n",
    "new_l1 = l1.copy()\n",
    "print(new_l1)"
   ]
  },
  {
   "cell_type": "code",
   "execution_count": 119,
   "metadata": {},
   "outputs": [
    {
     "name": "stdout",
     "output_type": "stream",
     "text": [
      "['netra', 11, 22, 33, 44, 55, 66, 77, 'Bibek', 'Nimesh', 12.35, 'Ganesh']\n"
     ]
    }
   ],
   "source": [
    "print(new_l1)"
   ]
  },
  {
   "cell_type": "code",
   "execution_count": 120,
   "metadata": {},
   "outputs": [
    {
     "data": {
      "text/plain": [
       "['netra', 11, 22, 33, 44, 55, 66, 77, 'Bibek', 'Nimesh', 12.35, 'Ganesh']"
      ]
     },
     "execution_count": 120,
     "metadata": {},
     "output_type": "execute_result"
    }
   ],
   "source": [
    "new_l1"
   ]
  },
  {
   "cell_type": "code",
   "execution_count": 121,
   "metadata": {},
   "outputs": [
    {
     "name": "stdout",
     "output_type": "stream",
     "text": [
      "['netra', 11, 22, 33, 44, 66, 77, 'Bibek', 'Nimesh', 12.35, 'Ganesh']\n"
     ]
    }
   ],
   "source": [
    "#Removing items from the list\n",
    "#DEL Function\n",
    "\n",
    "del new_l1[5] #Removes 55 from the list\n",
    "print(new_l1)"
   ]
  },
  {
   "cell_type": "code",
   "execution_count": 122,
   "metadata": {},
   "outputs": [
    {
     "data": {
      "text/plain": [
       "['netra', 11, 22, 33, 44, 66, 77, 'Bibek', 'Nimesh', 12.35]"
      ]
     },
     "execution_count": 122,
     "metadata": {},
     "output_type": "execute_result"
    }
   ],
   "source": [
    "del new_l1[-1] #Removes Ganesh from the list\n",
    "\n",
    "new_l1"
   ]
  },
  {
   "cell_type": "code",
   "execution_count": 123,
   "metadata": {},
   "outputs": [
    {
     "name": "stdout",
     "output_type": "stream",
     "text": [
      "['netra', 11, 22, 33, 44, 66, 77, 'Bibek', 'Nimesh', 12.35]\n"
     ]
    }
   ],
   "source": [
    "#Extend to add multiple elements in the list\n",
    "print(new_l1)"
   ]
  },
  {
   "cell_type": "code",
   "execution_count": 124,
   "metadata": {},
   "outputs": [
    {
     "name": "stdout",
     "output_type": "stream",
     "text": [
      "['netra', 11, 22, 33, 44, 66, 77, 'Bibek', 'Nimesh', 12.35, 'Ganesh', 35]\n"
     ]
    }
   ],
   "source": [
    "more_elements = [\"Ganesh\", 35]\n",
    "new_l1.extend(more_elements)\n",
    "print(new_l1)"
   ]
  },
  {
   "cell_type": "markdown",
   "metadata": {},
   "source": [
    "## Indexing the List "
   ]
  },
  {
   "cell_type": "markdown",
   "metadata": {},
   "source": []
  },
  {
   "cell_type": "code",
   "execution_count": 125,
   "metadata": {},
   "outputs": [
    {
     "name": "stdout",
     "output_type": "stream",
     "text": [
      "['netra', 11, 22, 33, 44, 55, 66, 77, 'Bibek', 'Nimesh', 12.35, 'Ganesh']\n"
     ]
    }
   ],
   "source": [
    "print(l1)"
   ]
  },
  {
   "cell_type": "code",
   "execution_count": 126,
   "metadata": {},
   "outputs": [
    {
     "name": "stdout",
     "output_type": "stream",
     "text": [
      "netra\n"
     ]
    }
   ],
   "source": [
    "print(l1[0])"
   ]
  },
  {
   "cell_type": "code",
   "execution_count": 127,
   "metadata": {},
   "outputs": [
    {
     "name": "stdout",
     "output_type": "stream",
     "text": [
      "44\n"
     ]
    }
   ],
   "source": [
    "print(l1[4])"
   ]
  },
  {
   "cell_type": "code",
   "execution_count": 128,
   "metadata": {},
   "outputs": [
    {
     "name": "stdout",
     "output_type": "stream",
     "text": [
      "77\n"
     ]
    }
   ],
   "source": [
    "print(l1[7])"
   ]
  },
  {
   "cell_type": "code",
   "execution_count": 129,
   "metadata": {},
   "outputs": [
    {
     "name": "stdout",
     "output_type": "stream",
     "text": [
      "Ganesh\n"
     ]
    }
   ],
   "source": [
    "print(l1[-1]) #Printing the Last Element "
   ]
  },
  {
   "cell_type": "code",
   "execution_count": 130,
   "metadata": {},
   "outputs": [
    {
     "name": "stdout",
     "output_type": "stream",
     "text": [
      "12.35\n"
     ]
    }
   ],
   "source": [
    "print(l1[-2]) #Printing the second last element"
   ]
  },
  {
   "cell_type": "code",
   "execution_count": 131,
   "metadata": {},
   "outputs": [
    {
     "name": "stdout",
     "output_type": "stream",
     "text": [
      "netra\n"
     ]
    }
   ],
   "source": [
    "print(l1[-12]) #Prints the first element"
   ]
  },
  {
   "cell_type": "code",
   "execution_count": 132,
   "metadata": {},
   "outputs": [
    {
     "name": "stdout",
     "output_type": "stream",
     "text": [
      "['netra', 11, 22, 33, 44, 55, 66, 77, 'Bibek', 'Nimesh', 12.35, 'Ganesh']\n"
     ]
    }
   ],
   "source": [
    "print(l1)"
   ]
  },
  {
   "cell_type": "code",
   "execution_count": 133,
   "metadata": {},
   "outputs": [
    {
     "name": "stdout",
     "output_type": "stream",
     "text": [
      "['netra', 22, 44, 66, 'Bibek', 12.35]\n"
     ]
    }
   ],
   "source": [
    "print(l1[::2]) #Prints elements in 2 steps including the first one"
   ]
  },
  {
   "cell_type": "code",
   "execution_count": 134,
   "metadata": {},
   "outputs": [
    {
     "name": "stdout",
     "output_type": "stream",
     "text": [
      "['netra', 11, 22, 33, 44]\n"
     ]
    }
   ],
   "source": [
    "print(l1[:5]) #Prints till 4th element"
   ]
  },
  {
   "cell_type": "code",
   "execution_count": 135,
   "metadata": {},
   "outputs": [
    {
     "name": "stdout",
     "output_type": "stream",
     "text": [
      "[11, 22, 33, 44, 55]\n"
     ]
    }
   ],
   "source": [
    "print(l1[1:6]) #Prints from second to 5th elements"
   ]
  },
  {
   "cell_type": "code",
   "execution_count": 136,
   "metadata": {},
   "outputs": [
    {
     "name": "stdout",
     "output_type": "stream",
     "text": [
      "['Ganesh', 12.35, 'Nimesh', 'Bibek', 77, 66, 55, 44, 33, 22, 11, 'netra']\n"
     ]
    }
   ],
   "source": [
    "print(l1[::-1]) #Prints elements in reversing order"
   ]
  },
  {
   "cell_type": "code",
   "execution_count": 137,
   "metadata": {},
   "outputs": [
    {
     "data": {
      "text/plain": [
       "['netra', 11, 22, 33, 44, 55, 66, 77, 'Bibek', 'Nimesh', 12.35, 'Ganesh']"
      ]
     },
     "execution_count": 137,
     "metadata": {},
     "output_type": "execute_result"
    }
   ],
   "source": [
    "l1"
   ]
  },
  {
   "cell_type": "code",
   "execution_count": 138,
   "metadata": {},
   "outputs": [
    {
     "name": "stdout",
     "output_type": "stream",
     "text": [
      "[11, 33, 55]\n"
     ]
    }
   ],
   "source": [
    "print(l1[1:7:2]) #Prints from 1 to 6 with 2 steps"
   ]
  },
  {
   "cell_type": "code",
   "execution_count": 139,
   "metadata": {},
   "outputs": [
    {
     "name": "stdout",
     "output_type": "stream",
     "text": [
      "['netra', 11, 22, 33, 44]\n"
     ]
    }
   ],
   "source": [
    "print(l1[:5]) #Prints from 0 to 4"
   ]
  },
  {
   "cell_type": "code",
   "execution_count": 140,
   "metadata": {},
   "outputs": [
    {
     "name": "stdout",
     "output_type": "stream",
     "text": [
      "[33, 44, 55, 66, 77, 'Bibek', 'Nimesh', 12.35, 'Ganesh']\n"
     ]
    }
   ],
   "source": [
    "print(l1[3:]) #Prints all the elements from third (3)"
   ]
  },
  {
   "cell_type": "code",
   "execution_count": 141,
   "metadata": {},
   "outputs": [
    {
     "name": "stdout",
     "output_type": "stream",
     "text": [
      "['Nimesh', 12.35, 'Ganesh']\n"
     ]
    }
   ],
   "source": [
    "print(l1[-3:])"
   ]
  },
  {
   "cell_type": "code",
   "execution_count": 142,
   "metadata": {},
   "outputs": [
    {
     "name": "stdout",
     "output_type": "stream",
     "text": [
      "[]\n"
     ]
    }
   ],
   "source": [
    "print(l1[4:4])"
   ]
  },
  {
   "cell_type": "markdown",
   "metadata": {},
   "source": [
    "## Modifying the Elements of the list"
   ]
  },
  {
   "cell_type": "code",
   "execution_count": 143,
   "metadata": {},
   "outputs": [
    {
     "name": "stdout",
     "output_type": "stream",
     "text": [
      "['netra', 11, 22, 33, 44, 55, 66, 77, 'Bibek', 'Nimesh', 12.35, 'Ganesh']\n"
     ]
    }
   ],
   "source": [
    "print(l1)"
   ]
  },
  {
   "cell_type": "code",
   "execution_count": 144,
   "metadata": {},
   "outputs": [
    {
     "name": "stdout",
     "output_type": "stream",
     "text": [
      "[99, 11, 22, 33, 44, 55, 66, 77, 'Bibek', 'Nimesh', 12.35, 'Ganesh']\n"
     ]
    }
   ],
   "source": [
    "#Modifying the First element \n",
    "l1[0] = 99\n",
    "print(l1)"
   ]
  },
  {
   "cell_type": "code",
   "execution_count": 145,
   "metadata": {},
   "outputs": [
    {
     "name": "stdout",
     "output_type": "stream",
     "text": [
      "[99, 11, 22, 33, 44, 55, 66, 77, 'Bibek', 111, 12.35, 'Ganesh']\n"
     ]
    }
   ],
   "source": [
    "#Modifying other elements \n",
    "l1[9] = 111\n",
    "print(l1)"
   ]
  },
  {
   "cell_type": "code",
   "execution_count": 146,
   "metadata": {},
   "outputs": [
    {
     "name": "stdout",
     "output_type": "stream",
     "text": [
      "[99, 11, 22, 33, 44, 55, 66, 77, 'Bibek', 111, 12.35, 'Ganesh']\n"
     ]
    }
   ],
   "source": [
    "# pop() for removing the elements\n",
    "\n",
    "print(l1)"
   ]
  },
  {
   "cell_type": "code",
   "execution_count": 147,
   "metadata": {},
   "outputs": [
    {
     "name": "stdout",
     "output_type": "stream",
     "text": [
      "Bibek\n",
      "[99, 11, 22, 33, 44, 55, 66, 77, 111, 12.35, 'Ganesh']\n"
     ]
    }
   ],
   "source": [
    "#Removing Eelement\n",
    "\n",
    "print(l1.pop(8)) #Prints the removed element \n",
    "print(l1)"
   ]
  },
  {
   "cell_type": "code",
   "execution_count": 148,
   "metadata": {},
   "outputs": [
    {
     "name": "stdout",
     "output_type": "stream",
     "text": [
      "111\n"
     ]
    }
   ],
   "source": [
    "#Next procedures \n",
    "\n",
    "removed_element = l1.pop(8)\n",
    "\n",
    "print(removed_element)"
   ]
  },
  {
   "cell_type": "code",
   "execution_count": 149,
   "metadata": {},
   "outputs": [
    {
     "name": "stdout",
     "output_type": "stream",
     "text": [
      "[99, 11, 22, 33, 44, 55, 66, 77, 12.35, 'Ganesh']\n"
     ]
    }
   ],
   "source": [
    "print(l1)"
   ]
  },
  {
   "cell_type": "code",
   "execution_count": 150,
   "metadata": {},
   "outputs": [
    {
     "name": "stdout",
     "output_type": "stream",
     "text": [
      "[11, 22, 33, 44, 55, 66, 77, 12.35, 'Ganesh']\n"
     ]
    }
   ],
   "source": [
    "#Removing Element (Note: Remove function works only in value not index)\n",
    "\n",
    "l1.remove(99)\n",
    "print(l1)"
   ]
  },
  {
   "cell_type": "code",
   "execution_count": 151,
   "metadata": {},
   "outputs": [
    {
     "name": "stdout",
     "output_type": "stream",
     "text": [
      "[11, 22, 33, 44, 55, 66, 77, 12.35, 'Ganesh']\n"
     ]
    }
   ],
   "source": [
    "print(l1)"
   ]
  },
  {
   "cell_type": "code",
   "execution_count": 155,
   "metadata": {},
   "outputs": [
    {
     "name": "stdout",
     "output_type": "stream",
     "text": [
      "[99, 88, 33, 22, 15, 14, 11]\n"
     ]
    }
   ],
   "source": [
    "#Sorting the List Elements (Note: Works only in int or float values)\n",
    "l2 = [11, 22, 33, 14, 15, 99, 88]\n",
    "l2.sort(reverse=True)\n",
    "\n",
    "print(l2)"
   ]
  },
  {
   "cell_type": "code",
   "execution_count": null,
   "metadata": {},
   "outputs": [],
   "source": []
  }
 ],
 "metadata": {
  "kernelspec": {
   "display_name": "myenv",
   "language": "python",
   "name": "python3"
  },
  "language_info": {
   "codemirror_mode": {
    "name": "ipython",
    "version": 3
   },
   "file_extension": ".py",
   "mimetype": "text/x-python",
   "name": "python",
   "nbconvert_exporter": "python",
   "pygments_lexer": "ipython3",
   "version": "3.11.6"
  }
 },
 "nbformat": 4,
 "nbformat_minor": 2
}
